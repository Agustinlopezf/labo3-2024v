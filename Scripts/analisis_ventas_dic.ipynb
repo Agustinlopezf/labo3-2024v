{
 "cells": [
  {
   "cell_type": "code",
   "execution_count": 41,
   "id": "f3f32653-01aa-4d54-81b2-5a440df8c3f2",
   "metadata": {
    "tags": []
   },
   "outputs": [],
   "source": [
    "import pandas as pd\n",
    "import os\n",
    "import numpy as np\n",
    "\n",
    "entorno = 'local'  # Elegir \"VM\" o \"local\" para correr en entorno local\n",
    "nombre_experimento = 'LSTM_producto'\n",
    "ventana_input = 12\n",
    "ventana_output = 2\n",
    "ventana_test = 3\n",
    "lags = [1, 2, 3, 6, 12]\n",
    "\n",
    "\n",
    "# Configurar entorno\n",
    "if entorno == 'VM':\n",
    "    carpeta_datasets = '~/buckets/b1/datasets'\n",
    "    carpeta_exp_base = '~/buckets/b1/exp'\n",
    "elif entorno == 'local':\n",
    "    carpeta_datasets = 'C:\\\\Users\\\\alope\\\\Desktop\\\\Trámites\\\\Maestria Data Science - Universidad Austral\\\\Laboratorio de implementación 3\\\\Datos'\n",
    "    carpeta_exp_base = 'C:\\\\Users\\\\alope\\\\Desktop\\\\Trámites\\\\Maestria Data Science - Universidad Austral\\\\Laboratorio de implementación 3\\\\Resultados'\n",
    "else:\n",
    "    raise Exception(\"Entorno especificado incorrectamente\")\n",
    "\n",
    "carpeta_exp = os.path.join(carpeta_exp_base, nombre_experimento)\n",
    "if not os.path.exists(carpeta_exp):\n",
    "    os.makedirs(carpeta_exp)\n",
    "    \n",
    "    \n",
    "dataset_completo = pd.read_csv(os.path.join(carpeta_datasets, 'dataset_completo.csv'))\n",
    "productos_predecir = pd.read_csv(os.path.join(carpeta_datasets, 'productos_a_predecir.txt'), delimiter='\\t')"
   ]
  },
  {
   "cell_type": "code",
   "execution_count": 42,
   "id": "7f5b938a-bb29-4f6e-8e9a-7a7a3028edc6",
   "metadata": {
    "tags": []
   },
   "outputs": [],
   "source": [
    "productos_filtrado = dataset_completo[dataset_completo['product_id'].isin(list(productos_predecir.values.reshape(-1)))]\n",
    "productos_dic = productos_filtrado[productos_filtrado['periodo'] == 201912]"
   ]
  },
  {
   "cell_type": "code",
   "execution_count": 43,
   "id": "d726f3f1-6c25-42c1-aba2-3426bd366127",
   "metadata": {
    "tags": []
   },
   "outputs": [],
   "source": [
    "ventas_dic = productos_dic.groupby(['product_id'])['tn'].sum().reset_index()\n",
    "ventas_dic = ventas_dic.sort_values(by='tn', ascending=False)\n",
    "ventas_dic.to_excel(os.path.join(carpeta_datasets, 'ventas_dic_producto.xlsx'), index = False)"
   ]
  },
  {
   "cell_type": "code",
   "execution_count": 44,
   "id": "30f92811-ab2e-4644-99a9-4da1bfe64cc2",
   "metadata": {
    "tags": []
   },
   "outputs": [
    {
     "name": "stdout",
     "output_type": "stream",
     "text": [
      "262805\n"
     ]
    }
   ],
   "source": [
    "#Analizar cantidad de series product-cliente\n",
    "unique_combinations = productos_filtrado[['product_id', 'customer_id']].drop_duplicates()\n",
    "\n",
    "# Count the number of unique combinations\n",
    "num_unique_combinations = unique_combinations.shape[0]\n",
    "print(num_unique_combinations)"
   ]
  },
  {
   "cell_type": "code",
   "execution_count": 48,
   "id": "cff2c424-4973-462b-8bd0-839fe0a48e75",
   "metadata": {
    "tags": []
   },
   "outputs": [
    {
     "name": "stdout",
     "output_type": "stream",
     "text": [
      "8499\n"
     ]
    }
   ],
   "source": [
    "#Analizar cantidad de series product-cliente para los N productos más vendidos en diciembre\n",
    "N = 20\n",
    "productos_mas_vendidos_dic = ventas_dic[:N]['product_id'].values\n",
    "df_productos_mas_vendidos = productos_filtrado[productos_filtrado['product_id'].isin(list(productos_mas_vendidos_dic))]\n",
    "unique_combinations = df_productos_mas_vendidos[['product_id', 'customer_id']].drop_duplicates()\n",
    "\n",
    "# Count the number of unique combinations\n",
    "num_unique_combinations = unique_combinations.shape[0]\n",
    "print(num_unique_combinations)"
   ]
  },
  {
   "cell_type": "code",
   "execution_count": null,
   "id": "528e2b9d-ccc0-4319-93c0-876b0c568a08",
   "metadata": {},
   "outputs": [],
   "source": []
  }
 ],
 "metadata": {
  "kernelspec": {
   "display_name": "Python 3 (ipykernel)",
   "language": "python",
   "name": "python3"
  },
  "language_info": {
   "codemirror_mode": {
    "name": "ipython",
    "version": 3
   },
   "file_extension": ".py",
   "mimetype": "text/x-python",
   "name": "python",
   "nbconvert_exporter": "python",
   "pygments_lexer": "ipython3",
   "version": "3.11.0"
  }
 },
 "nbformat": 4,
 "nbformat_minor": 5
}
