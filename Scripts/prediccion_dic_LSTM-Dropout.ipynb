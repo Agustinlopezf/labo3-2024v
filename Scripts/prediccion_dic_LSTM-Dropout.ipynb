{
 "cells": [
  {
   "cell_type": "code",
   "execution_count": 1,
   "id": "db50abeb-81c9-417f-a225-4d26448777c6",
   "metadata": {
    "tags": []
   },
   "outputs": [],
   "source": [
    "import pandas as pd\n",
    "import os\n",
    "import numpy as np\n",
    "\n",
    "carpeta_script = 'C:\\\\Users\\\\alope\\\\Desktop\\\\Trámites\\\\Maestria Data Science - Universidad Austral\\\\Laboratorio de implementación 3\\\\Experimentos en clase\\\\Scripts'\n",
    "carpeta_resultados = 'C:\\\\Users\\\\alope\\\\Desktop\\\\Trámites\\\\Maestria Data Science - Universidad Austral\\\\Laboratorio de implementación 3\\\\Experimentos en clase\\\\Resultados'\n",
    "carpeta_datos = 'C:\\\\Users\\\\alope\\\\Desktop\\\\Trámites\\\\Maestria Data Science - Universidad Austral\\\\Laboratorio de implementación 3\\\\Experimentos en clase\\\\Datos'\n"
   ]
  },
  {
   "cell_type": "code",
   "execution_count": 2,
   "id": "133a82f0-6d71-4d5c-adc0-53422ff21399",
   "metadata": {
    "tags": []
   },
   "outputs": [],
   "source": [
    "#Carga archivos\n",
    "sell_in = pd.read_csv(os.path.join(carpeta_datos, 'sell-in.txt'), delimiter = '\\t')\n",
    "tb_productos = pd.read_csv(os.path.join(carpeta_datos, 'tb_productos.txt'), delimiter = '\\t')\n",
    "tb_stocks = pd.read_csv(os.path.join(carpeta_datos, 'tb_stocks.txt'), delimiter = '\\t')\n",
    "productos_predecir = pd.read_csv(os.path.join(carpeta_datos, 'productos_a_predecir.txt'), delimiter = '\\t')  "
   ]
  },
  {
   "cell_type": "code",
   "execution_count": 3,
   "id": "aaeafc5f-7142-4915-8089-c678f3090049",
   "metadata": {
    "tags": []
   },
   "outputs": [],
   "source": [
    "sell_in.head()\n",
    "productos_predecir.head()\n",
    "\n",
    "ventas_producto_mes = sell_in.groupby(['periodo', 'product_id'])['tn'].sum()\n",
    "ventas_producto_mes = ventas_producto_mes.reset_index()\n",
    "ventas_producto_mes['Timestamp'] = pd.to_datetime(ventas_producto_mes['periodo'], format='%Y%m')\n",
    "ventas_producto_mes.set_index('Timestamp', inplace=True)\n",
    "ventas_producto_mes.drop(columns=['periodo'], inplace = True)"
   ]
  },
  {
   "cell_type": "code",
   "execution_count": null,
   "id": "43319698-e9d3-4b21-8a2f-761e42e15fc1",
   "metadata": {
    "tags": []
   },
   "outputs": [],
   "source": [
    "from sklearn.model_selection import train_test_split\n",
    "from tensorflow.keras.models import Sequential\n",
    "from tensorflow.keras.layers import LSTM, Dense, Dropout\n",
    "from sklearn.preprocessing import StandardScaler\n",
    "\n",
    "\n",
    "def crear_dataset_supervisado(array, input_length, output_length):\n",
    "\n",
    "    # Inicialización\n",
    "    X, Y = [], []    # Listados que contendrán los datos de entrada y salida del modelo\n",
    "    shape = array.shape\n",
    "    if len(shape)==1: # Si tenemos sólo una serie (univariado)\n",
    "        fils, cols = array.shape[0], 1\n",
    "        array = array.reshape(fils,cols)\n",
    "    else: # Multivariado\n",
    "        fils, cols = array.shape\n",
    "\n",
    "    # Generar los arreglos (utilizando ventanas deslizantes de longitud input_length)\n",
    "    for i in range(fils-input_length-output_length + 1):\n",
    "        X.append(array[i:i+input_length,0:cols])\n",
    "        Y.append(array[i+input_length:i+input_length+output_length,-1].reshape(output_length,1))\n",
    "\n",
    "    # Convertir listas a arreglos de NumPy\n",
    "    X = np.array(X)\n",
    "    Y = np.array(Y)\n",
    "\n",
    "    return X, Y\n",
    "\n",
    "def predecir(x, model, scaler):\n",
    "    # Calcular predicción escalada en el rango de escalado\n",
    "    y_pred_s = model.predict(x,verbose=0)\n",
    "    # Llevar la predicción a la escala original\n",
    "    y_pred = scaler.inverse_transform(y_pred_s)\n",
    "    return y_pred.flatten()\n",
    "\n",
    "ventana_input = 12\n",
    "ventana_output = 2\n",
    "\n",
    "lista_productos_LSTM = []\n",
    "lista_predicciones_LSTM = []\n",
    "scaler_list = []\n",
    "\n",
    "for producto in ventas_producto_mes['product_id'].unique():\n",
    "    if producto in list(productos_predecir['product_id']):\n",
    "        #print(f'Entrenando producto {producto}')\n",
    "        ventas_mes_por_producto = ventas_producto_mes[ventas_producto_mes['product_id'] == producto].copy()\n",
    "        #print(f'Tiene {len(ventas_mes_por_producto)} ejemplos de entrenamiento')\n",
    "        ventas_mes_por_producto.drop(columns=['product_id'], inplace = True)\n",
    "\n",
    "        #Escalar valor\n",
    "        scaler = StandardScaler()\n",
    "        ventas_mes_por_producto_escalado = scaler.fit_transform(ventas_mes_por_producto)\n",
    "        scaler_list.append(scaler)\n",
    "        try:\n",
    "            #Formatear valores para input LSTM\n",
    "            X, Y =crear_dataset_supervisado(ventas_mes_por_producto_escalado, ventana_input, ventana_output)\n",
    "\n",
    "            # Create and fit the LSTM network\n",
    "            model = Sequential()\n",
    "            model.add(LSTM(64, return_sequences=True, input_shape=(ventana_input, 1), recurrent_dropout=0.25))\n",
    "            model.add(LSTM(32, recurrent_dropout=0.25))\n",
    "            model.add(Dropout(0.5))\n",
    "            model.add(Dense(ventana_output))\n",
    "            model.compile(loss='mean_squared_error', optimizer='adam')\n",
    "            model.fit(X, Y, epochs=100, batch_size=1, verbose=0)\n",
    "\n",
    "            #Predecir valores\n",
    "            prediccion_mes_2 = predecir(X[-1].reshape(1,-1), model, scaler)[1]\n",
    "\n",
    "            lista_productos_LSTM.append(producto)\n",
    "            lista_predicciones_LSTM.append(prediccion_mes_2)\n",
    "        except:\n",
    "            print('Valores insuficientes para usar ventana de 12 para LSTM, se predice por promedio')\n",
    "            lista_productos_LSTM.append(producto)\n",
    "            lista_predicciones_LSTM.append(ventas_mes_por_producto['tn'].mean())"
   ]
  },
  {
   "cell_type": "code",
   "execution_count": 5,
   "id": "78b911ea-ae67-413c-9317-d41bcc5d97b7",
   "metadata": {
    "tags": []
   },
   "outputs": [],
   "source": [
    "resultados_kaggle_LSTM = pd.DataFrame({'product_id': lista_productos_LSTM, 'tn': lista_predicciones_LSTM})\n",
    "resultados_kaggle_LSTM['tn'] = resultados_kaggle_LSTM['tn'].apply(lambda x: max(0,x))\n",
    "resultados_kaggle_LSTM.to_csv(os.path.join(carpeta_resultados, 'predicciones_LSTM_droput.csv'), index= False)"
   ]
  }
 ],
 "metadata": {
  "kernelspec": {
   "display_name": "Python 3 (ipykernel)",
   "language": "python",
   "name": "python3"
  },
  "language_info": {
   "codemirror_mode": {
    "name": "ipython",
    "version": 3
   },
   "file_extension": ".py",
   "mimetype": "text/x-python",
   "name": "python",
   "nbconvert_exporter": "python",
   "pygments_lexer": "ipython3",
   "version": "3.11.0"
  }
 },
 "nbformat": 4,
 "nbformat_minor": 5
}
