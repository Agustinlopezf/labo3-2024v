{
 "cells": [
  {
   "cell_type": "code",
   "execution_count": 1,
   "id": "db50abeb-81c9-417f-a225-4d26448777c6",
   "metadata": {
    "tags": []
   },
   "outputs": [],
   "source": [
    "import pandas as pd\n",
    "import os\n",
    "import numpy as np\n",
    "\n",
    "carpeta_script = 'C:\\\\Users\\\\alope\\\\Desktop\\\\Trámites\\\\Maestria Data Science - Universidad Austral\\\\Laboratorio de implementación 3\\\\Experimentos en clase\\\\Scripts'\n",
    "carpeta_resultados = 'C:\\\\Users\\\\alope\\\\Desktop\\\\Trámites\\\\Maestria Data Science - Universidad Austral\\\\Laboratorio de implementación 3\\\\Experimentos en clase\\\\Resultados'\n",
    "carpeta_datos = 'C:\\\\Users\\\\alope\\\\Desktop\\\\Trámites\\\\Maestria Data Science - Universidad Austral\\\\Laboratorio de implementación 3\\\\Experimentos en clase\\\\Datos'\n"
   ]
  },
  {
   "cell_type": "code",
   "execution_count": 3,
   "id": "133a82f0-6d71-4d5c-adc0-53422ff21399",
   "metadata": {
    "tags": []
   },
   "outputs": [],
   "source": [
    "#Carga archivos\n",
    "sell_in = pd.read_csv(os.path.join(carpeta_datos, 'sell-in.txt'), delimiter = '\\t')\n",
    "tb_productos = pd.read_csv(os.path.join(carpeta_datos, 'tb_productos.txt'), delimiter = '\\t')\n",
    "tb_stocks = pd.read_csv(os.path.join(carpeta_datos, 'tb_stocks.txt'), delimiter = '\\t')\n",
    "productos_predecir = pd.read_csv(os.path.join(carpeta_datos, 'productos_a_predecir.txt'), delimiter = '\\t')  "
   ]
  },
  {
   "cell_type": "code",
   "execution_count": 4,
   "id": "aaeafc5f-7142-4915-8089-c678f3090049",
   "metadata": {
    "tags": []
   },
   "outputs": [],
   "source": [
    "sell_in.head()\n",
    "productos_predecir.head()\n",
    "\n",
    "ventas_producto_mes = sell_in.groupby(['periodo', 'product_id'])['tn'].sum()\n",
    "ventas_producto_mes = ventas_producto_mes.reset_index()\n"
   ]
  },
  {
   "cell_type": "code",
   "execution_count": 5,
   "id": "64a7aa91-e187-4966-a223-a584d042f4b5",
   "metadata": {
    "tags": []
   },
   "outputs": [],
   "source": [
    "ventas_producto_mes['Timestamp'] = pd.to_datetime(ventas_producto_mes['periodo'], format='%Y%m')\n",
    "ventas_producto_mes.set_index('Timestamp', inplace=True)\n",
    "ventas_producto_mes.drop(columns=['periodo'], inplace=True)\n",
    "\n"
   ]
  },
  {
   "cell_type": "code",
   "execution_count": null,
   "id": "43319698-e9d3-4b21-8a2f-761e42e15fc1",
   "metadata": {
    "tags": []
   },
   "outputs": [
    {
     "name": "stderr",
     "output_type": "stream",
     "text": [
      "C:\\Users\\alope\\AppData\\Local\\Programs\\Python\\Python311\\Lib\\site-packages\\pmdarima\\arima\\_auto_solvers.py:524: ModelFitWarning: Error fitting  ARIMA(2,0,3)(0,0,0)[0]           (if you do not want to see these warnings, run with error_action=\"ignore\").\n",
      "Traceback:\n",
      "Traceback (most recent call last):\n",
      "  File \"C:\\Users\\alope\\AppData\\Local\\Programs\\Python\\Python311\\Lib\\site-packages\\pmdarima\\arima\\_auto_solvers.py\", line 508, in _fit_candidate_model\n",
      "    fit.fit(y, X=X, **fit_params)\n",
      "  File \"C:\\Users\\alope\\AppData\\Local\\Programs\\Python\\Python311\\Lib\\site-packages\\pmdarima\\arima\\arima.py\", line 603, in fit\n",
      "    self._fit(y, X, **fit_args)\n",
      "  File \"C:\\Users\\alope\\AppData\\Local\\Programs\\Python\\Python311\\Lib\\site-packages\\pmdarima\\arima\\arima.py\", line 524, in _fit\n",
      "    fit, self.arima_res_ = _fit_wrapper()\n",
      "                           ^^^^^^^^^^^^^^\n",
      "  File \"C:\\Users\\alope\\AppData\\Local\\Programs\\Python\\Python311\\Lib\\site-packages\\pmdarima\\arima\\arima.py\", line 510, in _fit_wrapper\n",
      "    fitted = arima.fit(\n",
      "             ^^^^^^^^^^\n",
      "  File \"C:\\Users\\alope\\AppData\\Local\\Programs\\Python\\Python311\\Lib\\site-packages\\statsmodels\\tsa\\statespace\\mlemodel.py\", line 704, in fit\n",
      "    mlefit = super(MLEModel, self).fit(start_params, method=method,\n",
      "             ^^^^^^^^^^^^^^^^^^^^^^^^^^^^^^^^^^^^^^^^^^^^^^^^^^^^^^\n",
      "  File \"C:\\Users\\alope\\AppData\\Local\\Programs\\Python\\Python311\\Lib\\site-packages\\statsmodels\\base\\model.py\", line 566, in fit\n",
      "    xopt, retvals, optim_settings = optimizer._fit(f, score, start_params,\n",
      "                                    ^^^^^^^^^^^^^^^^^^^^^^^^^^^^^^^^^^^^^^\n",
      "  File \"C:\\Users\\alope\\AppData\\Local\\Programs\\Python\\Python311\\Lib\\site-packages\\statsmodels\\base\\optimizer.py\", line 242, in _fit\n",
      "    xopt, retvals = func(objective, gradient, start_params, fargs, kwargs,\n",
      "                    ^^^^^^^^^^^^^^^^^^^^^^^^^^^^^^^^^^^^^^^^^^^^^^^^^^^^^^\n",
      "  File \"C:\\Users\\alope\\AppData\\Local\\Programs\\Python\\Python311\\Lib\\site-packages\\statsmodels\\base\\optimizer.py\", line 659, in _fit_lbfgs\n",
      "    retvals = optimize.fmin_l_bfgs_b(func, start_params, maxiter=maxiter,\n",
      "              ^^^^^^^^^^^^^^^^^^^^^^^^^^^^^^^^^^^^^^^^^^^^^^^^^^^^^^^^^^^\n",
      "  File \"C:\\Users\\alope\\AppData\\Local\\Programs\\Python\\Python311\\Lib\\site-packages\\scipy\\optimize\\_lbfgsb_py.py\", line 197, in fmin_l_bfgs_b\n",
      "    res = _minimize_lbfgsb(fun, x0, args=args, jac=jac, bounds=bounds,\n",
      "          ^^^^^^^^^^^^^^^^^^^^^^^^^^^^^^^^^^^^^^^^^^^^^^^^^^^^^^^^^^^^\n",
      "  File \"C:\\Users\\alope\\AppData\\Local\\Programs\\Python\\Python311\\Lib\\site-packages\\scipy\\optimize\\_lbfgsb_py.py\", line 359, in _minimize_lbfgsb\n",
      "    f, g = func_and_grad(x)\n",
      "           ^^^^^^^^^^^^^^^^\n",
      "  File \"C:\\Users\\alope\\AppData\\Local\\Programs\\Python\\Python311\\Lib\\site-packages\\scipy\\optimize\\_differentiable_functions.py\", line 285, in fun_and_grad\n",
      "    self._update_fun()\n",
      "  File \"C:\\Users\\alope\\AppData\\Local\\Programs\\Python\\Python311\\Lib\\site-packages\\scipy\\optimize\\_differentiable_functions.py\", line 251, in _update_fun\n",
      "    self._update_fun_impl()\n",
      "  File \"C:\\Users\\alope\\AppData\\Local\\Programs\\Python\\Python311\\Lib\\site-packages\\scipy\\optimize\\_differentiable_functions.py\", line 155, in update_fun\n",
      "    self.f = fun_wrapped(self.x)\n",
      "             ^^^^^^^^^^^^^^^^^^^\n",
      "  File \"C:\\Users\\alope\\AppData\\Local\\Programs\\Python\\Python311\\Lib\\site-packages\\scipy\\optimize\\_differentiable_functions.py\", line 137, in fun_wrapped\n",
      "    fx = fun(np.copy(x), *args)\n",
      "         ^^^^^^^^^^^^^^^^^^^^^^\n",
      "  File \"C:\\Users\\alope\\AppData\\Local\\Programs\\Python\\Python311\\Lib\\site-packages\\statsmodels\\base\\model.py\", line 534, in f\n",
      "    return -self.loglike(params, *args) / nobs\n",
      "            ^^^^^^^^^^^^^^^^^^^^^^^^^^^\n",
      "  File \"C:\\Users\\alope\\AppData\\Local\\Programs\\Python\\Python311\\Lib\\site-packages\\statsmodels\\tsa\\statespace\\mlemodel.py\", line 939, in loglike\n",
      "    loglike = self.ssm.loglike(complex_step=complex_step, **kwargs)\n",
      "              ^^^^^^^^^^^^^^^^^^^^^^^^^^^^^^^^^^^^^^^^^^^^^^^^^^^^^\n",
      "  File \"C:\\Users\\alope\\AppData\\Local\\Programs\\Python\\Python311\\Lib\\site-packages\\statsmodels\\tsa\\statespace\\kalman_filter.py\", line 1001, in loglike\n",
      "    kfilter = self._filter(**kwargs)\n",
      "              ^^^^^^^^^^^^^^^^^^^^^^\n",
      "  File \"C:\\Users\\alope\\AppData\\Local\\Programs\\Python\\Python311\\Lib\\site-packages\\statsmodels\\tsa\\statespace\\kalman_filter.py\", line 921, in _filter\n",
      "    self._initialize_state(prefix=prefix, complex_step=complex_step)\n",
      "  File \"C:\\Users\\alope\\AppData\\Local\\Programs\\Python\\Python311\\Lib\\site-packages\\statsmodels\\tsa\\statespace\\representation.py\", line 1058, in _initialize_state\n",
      "    self._statespaces[prefix].initialize(self.initialization,\n",
      "  File \"statsmodels\\tsa\\statespace\\_representation.pyx\", line 1362, in statsmodels.tsa.statespace._representation.dStatespace.initialize\n",
      "  File \"statsmodels\\tsa\\statespace\\_initialization.pyx\", line 288, in statsmodels.tsa.statespace._initialization.dInitialization.initialize\n",
      "  File \"statsmodels\\tsa\\statespace\\_initialization.pyx\", line 406, in statsmodels.tsa.statespace._initialization.dInitialization.initialize_stationary_stationary_cov\n",
      "  File \"statsmodels\\tsa\\statespace\\_tools.pyx\", line 1525, in statsmodels.tsa.statespace._tools._dsolve_discrete_lyapunov\n",
      "numpy.linalg.LinAlgError: LU decomposition error.\n",
      "\n",
      "  warnings.warn(warning_str, ModelFitWarning)\n"
     ]
    }
   ],
   "source": [
    "from pmdarima.arima import auto_arima\n",
    "\n",
    "lista_productos_arima = []\n",
    "lista_predicciones_dic_arima = []\n",
    "lista_valores_reales_dic = []\n",
    "lista_cantidad_valores = []\n",
    "\n",
    "for producto in ventas_producto_mes['product_id'].unique():\n",
    "    if producto in list(productos_predecir['product_id']):\n",
    "        try:\n",
    "            ventas_mes_por_producto = ventas_producto_mes[ventas_producto_mes['product_id'] == producto].copy()\n",
    "            ventas_mes_por_producto.drop(columns=['product_id'], inplace = True)\n",
    "            valores_entrenamiento = ventas_mes_por_producto[(ventas_mes_por_producto.index != '2019-12-01') & (ventas_mes_por_producto.index != '2019-11-01')]\n",
    "            valor_real_dic = ventas_mes_por_producto[ventas_mes_por_producto.index == '2019-12-01']\n",
    "            modelo_autoarima = auto_arima(valores_entrenamiento, start_p=0, max_p=12, start_d=0, max_d=12, start_q=0, max_q=12, seasonal=False, trace=False, stepwise=True)\n",
    "            prediccion_autoarima_mes1, prediccion_autoarima_mes2 = modelo_autoarima.predict(n_periods=2, return_conf_int=False)\n",
    "            lista_productos_arima.append(producto)\n",
    "            lista_predicciones_dic_arima.append(prediccion_autoarima_mes2)\n",
    "            lista_valores_reales_dic.append(valor_real_dic.values[0,0])\n",
    "            lista_cantidad_valores.append(valores_entrenamiento['tn'].count())\n",
    "        except Exception as e:\n",
    "            print(f'Error en producto {producto}')\n",
    "            print(e)\n",
    "            print('Imprimiendo valores de entrenamiento')\n",
    "            print(valores_entrenamiento)\n",
    "            lista_productos_arima.append(producto)\n",
    "            lista_predicciones_dic_arima.append(valores_entrenamiento['tn'].mean())\n",
    "            lista_valores_reales_dic.append(valor_real_dic.values[0,0])\n",
    "            lista_cantidad_valores.append(valores_entrenamiento['tn'].count())"
   ]
  },
  {
   "cell_type": "code",
   "execution_count": null,
   "id": "e3445749-d926-44b7-99cf-cc64772b88bc",
   "metadata": {
    "tags": []
   },
   "outputs": [],
   "source": [
    "resultados_arima = pd.DataFrame({'product_id': lista_productos_arima, 'Prediccion': lista_predicciones_dic_arima, \n",
    "                                 'Valor_dic': lista_valores_reales_dic, 'Cantidad_ej_entrenamiento': lista_cantidad_valores})"
   ]
  },
  {
   "cell_type": "code",
   "execution_count": null,
   "id": "1a673413-ad18-402e-ac4d-323156cf3b34",
   "metadata": {
    "tags": []
   },
   "outputs": [],
   "source": [
    "resultados_arima.head()"
   ]
  },
  {
   "cell_type": "code",
   "execution_count": null,
   "id": "9ddad0dd-cb6b-4a65-a16f-77a822da68f7",
   "metadata": {
    "tags": []
   },
   "outputs": [],
   "source": [
    "import plotly.graph_objs as go\n",
    "import plotly.express as px\n",
    "\n",
    "# Dispersion valores dic vs prediccion\n",
    "scatter = px.scatter(resultados_arima, x='Valor_dic', y='Prediccion', title=\"Predicción con modelo ARIMA\")\n",
    "\n",
    "# Add names to each point in the scatter plot\n",
    "scatter.update_traces(\n",
    "    hovertext=resultados_arima['product_id'],\n",
    "    hovertemplate='<b>Producto:%{hovertext}</b><br>Valor Diciembre: %{x}<br>Predicción: %{y}<extra></extra>',\n",
    "    mode='markers'\n",
    ")\n",
    "\n",
    "\n",
    "# Recta de pendiente 1\n",
    "line_x = np.linspace(0, max(resultados_arima['Valor_dic']), 1000)\n",
    "line_y = line_x\n",
    "\n",
    "# Agregar línea al plot\n",
    "scatter.add_trace(go.Scatter(x=line_x, y=line_y, mode='lines', name='Predicción=Target', line=dict(color='red', dash='dash', width=2),opacity=0.5))\n",
    "\n",
    "#Guardar archivo HTML\n",
    "scatter.write_html(os.path.join(carpeta_resultados, \"Errores_ARIMA_pred_diciembre.html\"))\n",
    "\n",
    "# Show the plot\n",
    "scatter.show()"
   ]
  },
  {
   "cell_type": "code",
   "execution_count": null,
   "id": "5b5500ad-4697-4af4-b43d-dbaa514d0c76",
   "metadata": {
    "tags": []
   },
   "outputs": [],
   "source": [
    "resultados_arima['Error_abs'] = np.abs(resultados_arima['Valor_dic'] - resultados_arima['Prediccion'])\n",
    "\n",
    "resultados_arima.to_excel(os.path.join(carpeta_resultados, \"Prediccion_ARIMA_Dic.xlsx\"), index=False)"
   ]
  },
  {
   "cell_type": "code",
   "execution_count": 3,
   "id": "98a27bf4-eb41-4afa-8a62-705ae9da84fa",
   "metadata": {},
   "outputs": [],
   "source": [
    "resultados_arima = pd.read_excel(os.path.join(carpeta_resultados, \"Prediccion_ARIMA_Dic.xlsx\"))"
   ]
  },
  {
   "cell_type": "code",
   "execution_count": 4,
   "id": "49f3d9ed-8305-4b02-88e4-24074212d5b2",
   "metadata": {
    "tags": []
   },
   "outputs": [
    {
     "data": {
      "text/plain": [
       "780"
      ]
     },
     "execution_count": 4,
     "metadata": {},
     "output_type": "execute_result"
    }
   ],
   "source": [
    "len(resultados_arima)"
   ]
  },
  {
   "cell_type": "code",
   "execution_count": null,
   "id": "7d1e5f15-c1b7-47b6-a063-fab7148d5fb0",
   "metadata": {},
   "outputs": [],
   "source": []
  }
 ],
 "metadata": {
  "kernelspec": {
   "display_name": "Python 3 (ipykernel)",
   "language": "python",
   "name": "python3"
  },
  "language_info": {
   "codemirror_mode": {
    "name": "ipython",
    "version": 3
   },
   "file_extension": ".py",
   "mimetype": "text/x-python",
   "name": "python",
   "nbconvert_exporter": "python",
   "pygments_lexer": "ipython3",
   "version": "3.11.0"
  }
 },
 "nbformat": 4,
 "nbformat_minor": 5
}
