{
 "cells": [
  {
   "cell_type": "code",
   "execution_count": 1,
   "id": "31026553-1650-4951-a5d5-5c27030382d7",
   "metadata": {
    "tags": []
   },
   "outputs": [],
   "source": [
    "import pandas as pd\n",
    "import os\n",
    "import numpy as np\n",
    "from sklearn.cluster import KMeans\n",
    "from fastdtw import fastdtw\n",
    "from sklearn.cluster import KMeans\n",
    "from fastdtw import fastdtw\n",
    "from sklearn.preprocessing import StandardScaler\n",
    "import glob\n",
    "\n",
    "\n",
    "entorno = 'local'  # Elegir \"VM\" o \"local\" para correr en entorno local\n",
    "nombre_experimento = 'clusterizacion_dtw'\n",
    "ventana_input = 12\n",
    "ventana_output = 2\n",
    "num_clusters = 20\n",
    "modo_test = True  # Configura True para usar solo 1000 primeras series en modo de prueba\n",
    "\n",
    "\n",
    "# Configurar entorno\n",
    "if entorno == 'VM':\n",
    "    carpeta_datasets = '~/buckets/b1/datasets'\n",
    "    carpeta_exp_base = '~/buckets/b1/exp'\n",
    "elif entorno == 'local':\n",
    "    carpeta_datasets = 'C:\\\\Users\\\\alope\\\\Desktop\\\\Trámites\\\\Maestria Data Science - Universidad Austral\\\\Laboratorio de implementación 3\\\\Datos'\n",
    "    carpeta_exp_base = 'C:\\\\Users\\\\alope\\\\Desktop\\\\Trámites\\\\Maestria Data Science - Universidad Austral\\\\Laboratorio de implementación 3\\\\Resultados'\n",
    "else:\n",
    "    raise Exception(\"Entorno especificado incorrectamente\")\n",
    "\n",
    "carpeta_exp = os.path.join(carpeta_exp_base, nombre_experimento)\n",
    "if not os.path.exists(carpeta_exp):\n",
    "    os.makedirs(carpeta_exp)\n",
    "    "
   ]
  },
  {
   "cell_type": "code",
   "execution_count": 2,
   "id": "0f55c0b2-c6de-4c32-964b-9b85ebc7eeac",
   "metadata": {
    "tags": []
   },
   "outputs": [],
   "source": [
    "# Cargar datos\n",
    "sell_in = pd.read_csv(os.path.join(carpeta_datasets, 'sell-in.txt'), delimiter='\\t')\n",
    "tb_productos = pd.read_csv(os.path.join(carpeta_datasets, 'tb_productos_descripcion.txt'), delimiter='\\t')\n",
    "tb_stocks = pd.read_csv(os.path.join(carpeta_datasets, 'tb_stocks.txt'), delimiter='\\t')\n",
    "productos_predecir = pd.read_csv(os.path.join(carpeta_datasets, 'productos_a_predecir.txt'), delimiter='\\t')\n"
   ]
  },
  {
   "cell_type": "code",
   "execution_count": 3,
   "id": "6a910fa7-ebb5-4503-b1a3-0ec44b1b301b",
   "metadata": {
    "tags": []
   },
   "outputs": [],
   "source": [
    "# Preparar ventas por producto, cliente, mes\n",
    "ventas_producto_mes = sell_in.groupby(['periodo', 'product_id', 'customer_id'])['tn'].sum().reset_index()\n",
    "ventas_producto_mes['Timestamp'] = pd.to_datetime(ventas_producto_mes['periodo'], format='%Y%m')\n",
    "ventas_producto_mes.drop(columns=['periodo'], inplace=True)\n",
    "\n",
    "\n",
    "#Filtrar el dataframe por los productos sobre los cuales se realizarán predicciones \n",
    "lista_productos_predecir = list(productos_predecir['product_id'])\n",
    "ventas_producto_mes = ventas_producto_mes[ventas_producto_mes['product_id'].isin(lista_productos_predecir)]"
   ]
  },
  {
   "cell_type": "code",
   "execution_count": 4,
   "id": "7c136109-f870-45ea-b282-54fdca1042ec",
   "metadata": {
    "tags": []
   },
   "outputs": [],
   "source": [
    "if not os.path.isfile(os.path.join(carpeta_exp, 'tamaño_series.csv')):\n",
    "    #Analizar tamaño de las series producto-cliente\n",
    "    tamaño_series = pd.DataFrame()\n",
    "    cantidad_productos= len(ventas_producto_mes['product_id'].unique())\n",
    "\n",
    "\n",
    "    j = 1\n",
    "    for producto in ventas_producto_mes['product_id'].unique():\n",
    "        clientes_producto = ventas_producto_mes[ventas_producto_mes['product_id'] == producto]\n",
    "        cantidad_clientes = len(clientes_producto['customer_id'].unique())\n",
    "        i= 1\n",
    "        for cliente in clientes_producto['customer_id'].unique():\n",
    "            print(f'Procesando cliente {i} de {cantidad_clientes} - Producto {j} de {cantidad_productos}',  end=\"\\r\")\n",
    "            serie_producto_cliente = clientes_producto[clientes_producto['customer_id'] == cliente]\n",
    "            tamaño_series = pd.concat([tamaño_series, pd.DataFrame({\n",
    "                'product_id': [producto],\n",
    "                'customer_id': [cliente],\n",
    "                'cantidad_datos': [len(serie_producto_cliente)]\n",
    "            })])\n",
    "            i+=1\n",
    "        j += 1\n",
    "    \n",
    "    tamaño_series.to_csv(os.path.join(carpeta_exp, 'tamaño_series.csv'), index = False)\n",
    "else:\n",
    "    tamaño_series = pd.read_csv(os.path.join(carpeta_exp, 'tamaño_series.csv'))"
   ]
  },
  {
   "cell_type": "code",
   "execution_count": 5,
   "id": "d643aad7-dcfa-485d-9a65-b20bf60c86fe",
   "metadata": {
    "tags": []
   },
   "outputs": [
    {
     "name": "stdout",
     "output_type": "stream",
     "text": [
      "     product_id  customer_id  cantidad_datos\n",
      "0         20140        10011              36\n",
      "1         20076        10008              36\n",
      "2         20329        10009              36\n",
      "3         20177        10005              36\n",
      "4         20009        10005              36\n",
      "..          ...          ...             ...\n",
      "795       20864        10350              26\n",
      "796       20288        10012              28\n",
      "797       20745        10042              13\n",
      "798       20599        10031              12\n",
      "799       20642        10105              15\n",
      "\n",
      "[800 rows x 3 columns]\n"
     ]
    }
   ],
   "source": [
    "# Ordenar por cantidad de datos en orden descendente\n",
    "tamaño_series = tamaño_series.sort_values(by='cantidad_datos', ascending=False)\n",
    "\n",
    "N= 400\n",
    "# Tomar las series con datos completos y hacer un sampleo de N series\n",
    "series_completas = tamaño_series[tamaño_series['cantidad_datos'] == 36]\n",
    "sample_series_completas = series_completas.sample(n=N, random_state=42)  \n",
    "\n",
    "# Hacer un sampleo de N series del resto, evitando las que tienen menos de 12 meses de historia\n",
    "resto = tamaño_series.iloc[len(series_completas):]\n",
    "resto = resto[resto['cantidad_datos'] >= 12]\n",
    "sample_N = resto.sample(n=N, random_state=42) \n",
    "\n",
    "# Combinar los dos DataFrames\n",
    "series_sampled = pd.concat([sample_series_completas, sample_N], ignore_index=True)\n",
    "\n",
    "# Mostrar el DataFrame resultado\n",
    "print(series_sampled)"
   ]
  },
  {
   "cell_type": "code",
   "execution_count": 6,
   "id": "0fcfe5c9-38c8-49f0-8131-bcdb9fba337f",
   "metadata": {
    "tags": []
   },
   "outputs": [
    {
     "name": "stdout",
     "output_type": "stream",
     "text": [
      "   product_id customer_id        tn  Timestamp\n",
      "0       20140       10011 -0.926628 2017-01-01\n",
      "1       20140       10011 -1.693996 2017-02-01\n",
      "2       20140       10011  0.673883 2017-03-01\n",
      "3       20140       10011  2.044184 2017-04-01\n",
      "4       20140       10011 -2.000943 2017-05-01\n",
      "..        ...         ...       ...        ...\n",
      "31      20642       10105 -0.664551 2019-08-01\n",
      "32      20642       10105  0.747917 2019-09-01\n",
      "33      20642       10105 -0.664551 2019-10-01\n",
      "34      20642       10105 -0.664551 2019-11-01\n",
      "35      20642       10105  0.182601 2019-12-01\n",
      "\n",
      "[28800 rows x 4 columns]\n"
     ]
    }
   ],
   "source": [
    "# Filtrar la serie de acuerdo a los resultados\n",
    "ventas_producto_mes_sampling = pd.DataFrame(columns=ventas_producto_mes.columns)\n",
    "\n",
    "fecha_inicio = min(ventas_producto_mes['Timestamp'])\n",
    "fecha_fin = max(ventas_producto_mes['Timestamp'])\n",
    "\n",
    "date_range = pd.date_range(start=fecha_inicio, end=fecha_fin, freq='MS')\n",
    "\n",
    "# Iterar sobre los pares de product_id y customer_id en series_sampled\n",
    "for index, row in series_sampled.iterrows():\n",
    "    product_id = row['product_id']\n",
    "    customer_id = row['customer_id']\n",
    "\n",
    "    # Filtrar serie ventas_producto_mes por el par product_id y customer_id\n",
    "    filtrado = ventas_producto_mes[(ventas_producto_mes['product_id'] == product_id) & (ventas_producto_mes['customer_id'] == customer_id)].copy()\n",
    "    #Rellenar serie con 0 donde no hay compra\n",
    "    filtrado.set_index('Timestamp', inplace = True)\n",
    "    filtrado = filtrado.reindex(date_range)\n",
    "    filtrado.index.name = 'Timestamp'\n",
    "    filtrado['tn'] = filtrado['tn'].fillna(0)\n",
    "    filtrado['product_id'] = int(product_id)\n",
    "    filtrado['customer_id'] = int(customer_id)\n",
    "    filtrado = filtrado.reset_index()\n",
    "    scaler = StandardScaler()\n",
    "    filtrado['tn'] = scaler.fit_transform(np.array(filtrado['tn']).reshape(-1, 1))\n",
    "    \n",
    "    # Concatenar los resultados filtrados a la serie_concatenada\n",
    "    ventas_producto_mes_sampling = pd.concat([ventas_producto_mes_sampling, filtrado])\n",
    "    \n",
    "# Mostrar el resultado final\n",
    "print(ventas_producto_mes_sampling)"
   ]
  },
  {
   "cell_type": "code",
   "execution_count": 7,
   "id": "71817292-5a1c-4c61-a75d-6bd2a18c76a1",
   "metadata": {
    "tags": []
   },
   "outputs": [
    {
     "name": "stdout",
     "output_type": "stream",
     "text": [
      "Procesando fila 798, columna 799 de matriz de 800*800\r"
     ]
    }
   ],
   "source": [
    "# Calcular la matriz de distancias DTW\n",
    "productos_clientes = ventas_producto_mes_sampling.groupby(['product_id', 'customer_id'])['tn'].apply(list).reset_index()\n",
    "\n",
    "series = productos_clientes['tn'].tolist()\n",
    "distancias = np.zeros((len(series), len(series)))\n",
    "\n",
    "for i in range(len(series)):\n",
    "    for j in range(i + 1, len(series)):\n",
    "        print(f'Procesando fila {i}, columna {j} de matriz de {len(series)}*{len(series)}',  end=\"\\r\")\n",
    "        distancia, _ = fastdtw(series[i], series[j])\n",
    "        distancias[i, j] = distancia\n",
    "        distancias[j, i] = distancia"
   ]
  },
  {
   "cell_type": "code",
   "execution_count": 11,
   "id": "0641d82c-d0d2-46d6-9619-e5f9b0d60ea9",
   "metadata": {
    "tags": []
   },
   "outputs": [
    {
     "name": "stderr",
     "output_type": "stream",
     "text": [
      "C:\\Users\\alope\\AppData\\Local\\Programs\\Python\\Python311\\Lib\\site-packages\\sklearn\\cluster\\_kmeans.py:1412: FutureWarning: The default value of `n_init` will change from 10 to 'auto' in 1.4. Set the value of `n_init` explicitly to suppress the warning\n",
      "  super()._check_params_vs_input(X, default_n_init=10)\n"
     ]
    }
   ],
   "source": [
    "# Clusterizar las series de tiempo\n",
    "num_clusters = 25\n",
    "kmeans = KMeans(n_clusters=num_clusters, random_state=0)\n",
    "productos_clientes['cluster'] = kmeans.fit_predict(distancias)"
   ]
  },
  {
   "cell_type": "code",
   "execution_count": 12,
   "id": "94feb136-23e8-404a-b8c9-1236221e1d9e",
   "metadata": {
    "tags": []
   },
   "outputs": [],
   "source": [
    "# Guardar las series con su cluster asociado\n",
    "productos_clientes.to_csv(os.path.join(carpeta_exp, 'series_con_clusters.csv'), index=False)"
   ]
  },
  {
   "cell_type": "code",
   "execution_count": 51,
   "id": "376654fa-8b21-44b7-ba1d-935bce5ec1c7",
   "metadata": {
    "tags": []
   },
   "outputs": [],
   "source": [
    "import matplotlib.pyplot as plt\n",
    "\n",
    "#Cargar serie de clusters\n",
    "productos_clientes = pd.read_csv(os.path.join(carpeta_exp, 'series_con_clusters.csv'))\n",
    "num_clusters = len(productos_clientes['cluster'].unique())\n",
    "\n",
    "# Generar gráficos de las series por cluster\n",
    "# Borrar gráficos existentes de la carpeta\n",
    "patron = 'cluster_*.png'\n",
    "archivos_a_eliminar = glob.glob(os.path.join(carpeta_exp, patron))\n",
    "for archivo in archivos_a_eliminar:\n",
    "    os.remove(archivo)\n",
    "\n",
    "ventas_producto_mes_copia = ventas_producto_mes.copy()\n",
    "\n",
    "#Graficar clusters\n",
    "for cluster in range(num_clusters):\n",
    "    series_cluster = productos_clientes[productos_clientes['cluster'] == cluster]\n",
    "    plt.figure(figsize=(12, 8))\n",
    "\n",
    "    for _, row in series_cluster.iterrows():\n",
    "        product_id = row['product_id']\n",
    "        customer_id = row['customer_id']\n",
    "        serie = ventas_producto_mes_copia[(ventas_producto_mes_copia['product_id'] == product_id) &\n",
    "                                    (ventas_producto_mes_copia['customer_id'] == customer_id)]\n",
    "        serie_tn = serie['tn']\n",
    "        scaler = StandardScaler()\n",
    "        \n",
    "        serie_tn_escalada = scaler.fit_transform(np.array(serie_tn).reshape(-1,1))\n",
    "        ventas_producto_mes_copia.loc[serie.index, 'tn'] = serie_tn_escalada\n",
    "        \n",
    "        serie_plot = ventas_producto_mes_copia[(ventas_producto_mes_copia['product_id'] == product_id) &\n",
    "                                    (ventas_producto_mes_copia['customer_id'] == customer_id)]['tn']\n",
    "        serie_plot.plot(label=f'Producto: {product_id}, Cliente: {customer_id}', alpha=0.5)\n",
    "\n",
    "    plt.title(f'Cluster {cluster}')\n",
    "    plt.xlabel('Fecha')\n",
    "    plt.ylabel('Ventas')\n",
    "    plt.legend()\n",
    "    plt.savefig(os.path.join(carpeta_exp, f'cluster_{cluster}.png'))\n",
    "    plt.close()"
   ]
  },
  {
   "cell_type": "code",
   "execution_count": 44,
   "id": "09f547ac-f9a1-4913-a1c9-1ba1c674729f",
   "metadata": {
    "tags": []
   },
   "outputs": [
    {
     "data": {
      "text/plain": [
       "Index([  63150,  144971,  233429,  319858,  412203,  508407,  586267,  676271,\n",
       "        768185,  860609,  953316, 1035071, 1115134, 1201255, 1298718, 1384361,\n",
       "       1468759, 1557906, 1637572, 1723422, 1799763, 1878476, 1952393, 2022134,\n",
       "       2091138, 2171180, 2258395, 2339511, 2411719, 2491596, 2573565, 2642903,\n",
       "       2721084, 2798583, 2872843, 2933726],\n",
       "      dtype='int64')"
      ]
     },
     "execution_count": 44,
     "metadata": {},
     "output_type": "execute_result"
    }
   ],
   "source": [
    "serie_escalada"
   ]
  },
  {
   "cell_type": "code",
   "execution_count": null,
   "id": "54cc120b-77ad-40aa-b989-0550601e3f1e",
   "metadata": {},
   "outputs": [],
   "source": []
  }
 ],
 "metadata": {
  "kernelspec": {
   "display_name": "Python 3 (ipykernel)",
   "language": "python",
   "name": "python3"
  },
  "language_info": {
   "codemirror_mode": {
    "name": "ipython",
    "version": 3
   },
   "file_extension": ".py",
   "mimetype": "text/x-python",
   "name": "python",
   "nbconvert_exporter": "python",
   "pygments_lexer": "ipython3",
   "version": "3.11.0"
  }
 },
 "nbformat": 4,
 "nbformat_minor": 5
}
